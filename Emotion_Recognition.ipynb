{
 "cells": [
  {
   "cell_type": "code",
   "execution_count": 1,
   "id": "8d65ee38-02c1-42d3-85be-f0aef397709c",
   "metadata": {},
   "outputs": [],
   "source": [
    "#ml packages\n",
    "import pandas as pd #data manupulation(handling dataframes)\n",
    "import numpy as np #numerical computations\n",
    "import pickle #to save trained model file\n",
    "import nltk #related to natural language processing - for analyzing human lang - (tokenization,stemming)\n",
    "import re #regular expression - searching patterns in string\n",
    "from nltk.stem import PorterStemmer #stemming algo (running-run)\n",
    "\n",
    "#visualization\n",
    "import seaborn as sns #statistical data visualization\n",
    "import matplotlib.pyplot as plt #plots,graphs\n",
    "plt.style.use('ggplot') #clear style in plots\n",
    "\n",
    "#preprocessing\n",
    "from sklearn.preprocessing import LabelEncoder #feature encoding - (0,1,2)\n"
   ]
  },
  {
   "cell_type": "code",
   "execution_count": 2,
   "id": "c5005d47-a1a8-4e10-ac9d-a2f09b602eb9",
   "metadata": {},
   "outputs": [],
   "source": [
    "#loading data\n",
    "data = pd.read_csv(\"train.txt\", header=None, sep=\";\", names=[\"Comment\", \"Emotion\"], encoding=\"utf-8\")"
   ]
  },
  {
   "cell_type": "code",
   "execution_count": 3,
   "id": "142b3d11-88f6-45cf-88ff-23bcd6467be4",
   "metadata": {},
   "outputs": [],
   "source": [
    "data[\"length\"] = [len(x) for x in data[\"Comment\"]]"
   ]
  },
  {
   "cell_type": "code",
   "execution_count": 4,
   "id": "4de6b7d0-3ccf-4b91-b98a-c4c80d248cae",
   "metadata": {},
   "outputs": [
    {
     "data": {
      "text/html": [
       "<div>\n",
       "<style scoped>\n",
       "    .dataframe tbody tr th:only-of-type {\n",
       "        vertical-align: middle;\n",
       "    }\n",
       "\n",
       "    .dataframe tbody tr th {\n",
       "        vertical-align: top;\n",
       "    }\n",
       "\n",
       "    .dataframe thead th {\n",
       "        text-align: right;\n",
       "    }\n",
       "</style>\n",
       "<table border=\"1\" class=\"dataframe\">\n",
       "  <thead>\n",
       "    <tr style=\"text-align: right;\">\n",
       "      <th></th>\n",
       "      <th>Comment</th>\n",
       "      <th>Emotion</th>\n",
       "      <th>length</th>\n",
       "    </tr>\n",
       "  </thead>\n",
       "  <tbody>\n",
       "    <tr>\n",
       "      <th>0</th>\n",
       "      <td>i didnt feel humiliated</td>\n",
       "      <td>sadness</td>\n",
       "      <td>23</td>\n",
       "    </tr>\n",
       "    <tr>\n",
       "      <th>1</th>\n",
       "      <td>i can go from feeling so hopeless to so damned...</td>\n",
       "      <td>sadness</td>\n",
       "      <td>108</td>\n",
       "    </tr>\n",
       "    <tr>\n",
       "      <th>2</th>\n",
       "      <td>im grabbing a minute to post i feel greedy wrong</td>\n",
       "      <td>anger</td>\n",
       "      <td>48</td>\n",
       "    </tr>\n",
       "    <tr>\n",
       "      <th>3</th>\n",
       "      <td>i am ever feeling nostalgic about the fireplac...</td>\n",
       "      <td>love</td>\n",
       "      <td>92</td>\n",
       "    </tr>\n",
       "    <tr>\n",
       "      <th>4</th>\n",
       "      <td>i am feeling grouchy</td>\n",
       "      <td>anger</td>\n",
       "      <td>20</td>\n",
       "    </tr>\n",
       "  </tbody>\n",
       "</table>\n",
       "</div>"
      ],
      "text/plain": [
       "                                             Comment  Emotion  length\n",
       "0                            i didnt feel humiliated  sadness      23\n",
       "1  i can go from feeling so hopeless to so damned...  sadness     108\n",
       "2   im grabbing a minute to post i feel greedy wrong    anger      48\n",
       "3  i am ever feeling nostalgic about the fireplac...     love      92\n",
       "4                               i am feeling grouchy    anger      20"
      ]
     },
     "execution_count": 4,
     "metadata": {},
     "output_type": "execute_result"
    }
   ],
   "source": [
    "data.head(5)"
   ]
  },
  {
   "cell_type": "code",
   "execution_count": 5,
   "id": "65c5d2d3-2fed-41ce-b44f-348eb380a551",
   "metadata": {},
   "outputs": [
    {
     "data": {
      "text/plain": [
       "(16000, 3)"
      ]
     },
     "execution_count": 5,
     "metadata": {},
     "output_type": "execute_result"
    }
   ],
   "source": [
    "data.shape"
   ]
  },
  {
   "cell_type": "code",
   "execution_count": 6,
   "id": "e0e70713-6461-4fbd-aeb2-ed030be10607",
   "metadata": {},
   "outputs": [
    {
     "data": {
      "text/plain": [
       "Comment    0\n",
       "Emotion    0\n",
       "length     0\n",
       "dtype: int64"
      ]
     },
     "execution_count": 6,
     "metadata": {},
     "output_type": "execute_result"
    }
   ],
   "source": [
    "data.isnull().sum()"
   ]
  },
  {
   "cell_type": "code",
   "execution_count": 7,
   "id": "76b83226-ac63-41c3-94d2-80381d6e2585",
   "metadata": {},
   "outputs": [
    {
     "data": {
      "text/plain": [
       "1"
      ]
     },
     "execution_count": 7,
     "metadata": {},
     "output_type": "execute_result"
    }
   ],
   "source": [
    "data.duplicated().sum()"
   ]
  },
  {
   "cell_type": "code",
   "execution_count": 16,
   "id": "b05d055a-50f2-4861-abd8-0d17e6df18ef",
   "metadata": {},
   "outputs": [
    {
     "data": {
      "image/png": "[encoded data removed]",
      "text/plain": [
       "<Figure size 640x480 with 1 Axes>"
      ]
     },
     "metadata": {},
     "output_type": "display_data"
    }
   ],
   "source": [
    "#visualization\n",
    "sns.countplot(x=data['Emotion'], hue=data[\"Emotion\"])\n",
    "plt.title(\"Emotion Distribution\")\n",
    "plt.xlabel(\"Emotion\")\n",
    "plt.ylabel(\"Count\")\n",
    "plt.show()"
   ]
  },
  {
   "cell_type": "code",
   "execution_count": 20,
   "id": "e06eeb5c-f291-45e2-8775-3e9513d1aca0",
   "metadata": {},
   "outputs": [
    {
     "data": {
      "image/png": "[encoded data removed]",
      "text/plain": [
       "<Figure size 640x480 with 1 Axes>"
      ]
     },
     "metadata": {},
     "output_type": "display_data"
    }
   ],
   "source": [
    "#visualization\n",
    "sns.histplot(data=data,x='length',hue='Emotion',multiple='stack')\n",
    "plt.title(\"Text Length Distribution by Emotion\")\n",
    "plt.xlabel(\"Text Length\")\n",
    "plt.ylabel(\"Frequency\")\n",
    "plt.show()"
   ]
  },
  {
   "cell_type": "code",
   "execution_count": 21,
   "id": "df5186db-2bae-4705-bcd5-ec9657ef7f82",
   "metadata": {},
   "outputs": [],
   "source": [
    "#encoding emotion eah class assigned a int val\n",
    "le = LabelEncoder()\n",
    "data['Emotion'] = le.fit_transform(data['Emotion'])"
   ]
  },
  {
   "cell_type": "code",
   "execution_count": 12,
   "id": "d6759d65-5c74-44b5-a92a-df3995cb71a3",
   "metadata": {},
   "outputs": [
    {
     "data": {
      "text/html": [
       "<div>\n",
       "<style scoped>\n",
       "    .dataframe tbody tr th:only-of-type {\n",
       "        vertical-align: middle;\n",
       "    }\n",
       "\n",
       "    .dataframe tbody tr th {\n",
       "        vertical-align: top;\n",
       "    }\n",
       "\n",
       "    .dataframe thead th {\n",
       "        text-align: right;\n",
       "    }\n",
       "</style>\n",
       "<table border=\"1\" class=\"dataframe\">\n",
       "  <thead>\n",
       "    <tr style=\"text-align: right;\">\n",
       "      <th></th>\n",
       "      <th>Comment</th>\n",
       "      <th>Emotion</th>\n",
       "      <th>length</th>\n",
       "    </tr>\n",
       "  </thead>\n",
       "  <tbody>\n",
       "    <tr>\n",
       "      <th>0</th>\n",
       "      <td>i didnt feel humiliated</td>\n",
       "      <td>4</td>\n",
       "      <td>23</td>\n",
       "    </tr>\n",
       "    <tr>\n",
       "      <th>1</th>\n",
       "      <td>i can go from feeling so hopeless to so damned...</td>\n",
       "      <td>4</td>\n",
       "      <td>108</td>\n",
       "    </tr>\n",
       "    <tr>\n",
       "      <th>2</th>\n",
       "      <td>im grabbing a minute to post i feel greedy wrong</td>\n",
       "      <td>0</td>\n",
       "      <td>48</td>\n",
       "    </tr>\n",
       "    <tr>\n",
       "      <th>3</th>\n",
       "      <td>i am ever feeling nostalgic about the fireplac...</td>\n",
       "      <td>3</td>\n",
       "      <td>92</td>\n",
       "    </tr>\n",
       "    <tr>\n",
       "      <th>4</th>\n",
       "      <td>i am feeling grouchy</td>\n",
       "      <td>0</td>\n",
       "      <td>20</td>\n",
       "    </tr>\n",
       "  </tbody>\n",
       "</table>\n",
       "</div>"
      ],
      "text/plain": [
       "                                             Comment  Emotion  length\n",
       "0                            i didnt feel humiliated        4      23\n",
       "1  i can go from feeling so hopeless to so damned...        4     108\n",
       "2   im grabbing a minute to post i feel greedy wrong        0      48\n",
       "3  i am ever feeling nostalgic about the fireplac...        3      92\n",
       "4                               i am feeling grouchy        0      20"
      ]
     },
     "execution_count": 12,
     "metadata": {},
     "output_type": "execute_result"
    }
   ],
   "source": [
    "data.head()"
   ]
  },
  {
   "cell_type": "code",
   "execution_count": 13,
   "id": "1f0e0687-8075-448b-a299-fa1cf5bb4705",
   "metadata": {},
   "outputs": [],
   "source": [
    "label_to_emotion = {\n",
    "    0: \"Anger\",\n",
    "    1: \"Fear\",\n",
    "    2: \"Joy\",\n",
    "    3: \"Love\",\n",
    "    4: \"Sadness\",\n",
    "    5: \"Surprise\"\n",
    "}"
   ]
  },
  {
   "cell_type": "code",
   "execution_count": 22,
   "id": "3b818f6d-7e55-45ed-8dc7-3b2d0ba9fdb5",
   "metadata": {},
   "outputs": [],
   "source": [
    "from sklearn.model_selection import train_test_split #for splittting dataset(train,test)\n",
    "\n",
    "from sklearn.feature_extraction.text import CountVectorizer, TfidfVectorizer #CV-freq of word Tfidf-imp of word(how rare it occurs)\n",
    "\n",
    "from sklearn.naive_bayes import MultinomialNB #probability based\n",
    "from sklearn.linear_model import LogisticRegression #linear classifier\n",
    "from sklearn.ensemble import RandomForestClassifier #use multiple decision trees\n",
    "from sklearn.svm import SVC #based on Support Vector Machines - hyperplane\n",
    "\n",
    "from sklearn.metrics import accuracy_score, classification_report #accuracy,precision"
   ]
  },
  {
   "cell_type": "code",
   "execution_count": 23,
   "id": "94e55ff8-92a1-455b-8676-da5707dff7f3",
   "metadata": {},
   "outputs": [
    {
     "name": "stderr",
     "output_type": "stream",
     "text": [
      "[nltk_data] Downloading package stopwords to\n",
      "[nltk_data]     C:\\Users\\keert\\AppData\\Roaming\\nltk_data...\n",
      "[nltk_data]   Package stopwords is already up-to-date!\n"
     ]
    }
   ],
   "source": [
    "from tqdm import tqdm #FOR showing progress bar\n",
    "tqdm.pandas()\n",
    "\n",
    "nltk.download('stopwords') #stopwords - insignificant words (is,and,the)\n",
    "stopwords = set(nltk.corpus.stopwords.words('english')) #storing all the english stopwords in a set"
   ]
  },
  {
   "cell_type": "code",
   "execution_count": 24,
   "id": "699e37df-035f-4d7c-8cb9-9d688864b6ee",
   "metadata": {},
   "outputs": [
    {
     "data": {
      "text/html": [
       "<div>\n",
       "<style scoped>\n",
       "    .dataframe tbody tr th:only-of-type {\n",
       "        vertical-align: middle;\n",
       "    }\n",
       "\n",
       "    .dataframe tbody tr th {\n",
       "        vertical-align: top;\n",
       "    }\n",
       "\n",
       "    .dataframe thead th {\n",
       "        text-align: right;\n",
       "    }\n",
       "</style>\n",
       "<table border=\"1\" class=\"dataframe\">\n",
       "  <thead>\n",
       "    <tr style=\"text-align: right;\">\n",
       "      <th></th>\n",
       "      <th>Comment</th>\n",
       "      <th>Emotion</th>\n",
       "      <th>length</th>\n",
       "    </tr>\n",
       "  </thead>\n",
       "  <tbody>\n",
       "    <tr>\n",
       "      <th>0</th>\n",
       "      <td>i didnt feel humiliated</td>\n",
       "      <td>4</td>\n",
       "      <td>23</td>\n",
       "    </tr>\n",
       "    <tr>\n",
       "      <th>1</th>\n",
       "      <td>i can go from feeling so hopeless to so damned...</td>\n",
       "      <td>4</td>\n",
       "      <td>108</td>\n",
       "    </tr>\n",
       "    <tr>\n",
       "      <th>2</th>\n",
       "      <td>im grabbing a minute to post i feel greedy wrong</td>\n",
       "      <td>0</td>\n",
       "      <td>48</td>\n",
       "    </tr>\n",
       "    <tr>\n",
       "      <th>3</th>\n",
       "      <td>i am ever feeling nostalgic about the fireplac...</td>\n",
       "      <td>3</td>\n",
       "      <td>92</td>\n",
       "    </tr>\n",
       "    <tr>\n",
       "      <th>4</th>\n",
       "      <td>i am feeling grouchy</td>\n",
       "      <td>0</td>\n",
       "      <td>20</td>\n",
       "    </tr>\n",
       "  </tbody>\n",
       "</table>\n",
       "</div>"
      ],
      "text/plain": [
       "                                             Comment  Emotion  length\n",
       "0                            i didnt feel humiliated        4      23\n",
       "1  i can go from feeling so hopeless to so damned...        4     108\n",
       "2   im grabbing a minute to post i feel greedy wrong        0      48\n",
       "3  i am ever feeling nostalgic about the fireplac...        3      92\n",
       "4                               i am feeling grouchy        0      20"
      ]
     },
     "execution_count": 24,
     "metadata": {},
     "output_type": "execute_result"
    }
   ],
   "source": [
    "df = data.copy()\n",
    "df.head()"
   ]
  },
  {
   "cell_type": "code",
   "execution_count": 25,
   "id": "6c62ca42-9691-46bd-a1df-3e159424934a",
   "metadata": {},
   "outputs": [
    {
     "name": "stderr",
     "output_type": "stream",
     "text": [
      "100%|██████████████████████████████████████████████████████████████████████████| 16000/16000 [00:11<00:00, 1443.71it/s]\n"
     ]
    }
   ],
   "source": [
    "#cleaning data\n",
    "def clean_data(text):\n",
    "    stemmer = PorterStemmer() #running->run\n",
    "    text = re.sub(\"[^a-zA-Z]\", \" \",text) #remove all characters from the text except alphabets. , Replaces non-alphabetical characters with a space.\n",
    "    text = text.lower()\n",
    "    text = text.split()\n",
    "    text = [stemmer.stem(word) for word in text if word not in stopwords] #Applies stemming and stopword removal to the list of words\n",
    "    return \" \".join(text) #Joins the processed list of words back into a single string, separated by spaces.\n",
    "\n",
    "df['cleaned_comment'] = df['Comment'].progress_apply(clean_data)"
   ]
  },
  {
   "cell_type": "code",
   "execution_count": 26,
   "id": "22673ff3-a57b-4e3c-9338-85a595a922f3",
   "metadata": {},
   "outputs": [
    {
     "data": {
      "text/html": [
       "<div>\n",
       "<style scoped>\n",
       "    .dataframe tbody tr th:only-of-type {\n",
       "        vertical-align: middle;\n",
       "    }\n",
       "\n",
       "    .dataframe tbody tr th {\n",
       "        vertical-align: top;\n",
       "    }\n",
       "\n",
       "    .dataframe thead th {\n",
       "        text-align: right;\n",
       "    }\n",
       "</style>\n",
       "<table border=\"1\" class=\"dataframe\">\n",
       "  <thead>\n",
       "    <tr style=\"text-align: right;\">\n",
       "      <th></th>\n",
       "      <th>Comment</th>\n",
       "      <th>Emotion</th>\n",
       "      <th>length</th>\n",
       "      <th>cleaned_comment</th>\n",
       "    </tr>\n",
       "  </thead>\n",
       "  <tbody>\n",
       "    <tr>\n",
       "      <th>0</th>\n",
       "      <td>i didnt feel humiliated</td>\n",
       "      <td>4</td>\n",
       "      <td>23</td>\n",
       "      <td>didnt feel humili</td>\n",
       "    </tr>\n",
       "    <tr>\n",
       "      <th>1</th>\n",
       "      <td>i can go from feeling so hopeless to so damned...</td>\n",
       "      <td>4</td>\n",
       "      <td>108</td>\n",
       "      <td>go feel hopeless damn hope around someon care ...</td>\n",
       "    </tr>\n",
       "    <tr>\n",
       "      <th>2</th>\n",
       "      <td>im grabbing a minute to post i feel greedy wrong</td>\n",
       "      <td>0</td>\n",
       "      <td>48</td>\n",
       "      <td>im grab minut post feel greedi wrong</td>\n",
       "    </tr>\n",
       "    <tr>\n",
       "      <th>3</th>\n",
       "      <td>i am ever feeling nostalgic about the fireplac...</td>\n",
       "      <td>3</td>\n",
       "      <td>92</td>\n",
       "      <td>ever feel nostalg fireplac know still properti</td>\n",
       "    </tr>\n",
       "    <tr>\n",
       "      <th>4</th>\n",
       "      <td>i am feeling grouchy</td>\n",
       "      <td>0</td>\n",
       "      <td>20</td>\n",
       "      <td>feel grouchi</td>\n",
       "    </tr>\n",
       "  </tbody>\n",
       "</table>\n",
       "</div>"
      ],
      "text/plain": [
       "                                             Comment  Emotion  length  \\\n",
       "0                            i didnt feel humiliated        4      23   \n",
       "1  i can go from feeling so hopeless to so damned...        4     108   \n",
       "2   im grabbing a minute to post i feel greedy wrong        0      48   \n",
       "3  i am ever feeling nostalgic about the fireplac...        3      92   \n",
       "4                               i am feeling grouchy        0      20   \n",
       "\n",
       "                                     cleaned_comment  \n",
       "0                                  didnt feel humili  \n",
       "1  go feel hopeless damn hope around someon care ...  \n",
       "2               im grab minut post feel greedi wrong  \n",
       "3     ever feel nostalg fireplac know still properti  \n",
       "4                                       feel grouchi  "
      ]
     },
     "execution_count": 26,
     "metadata": {},
     "output_type": "execute_result"
    }
   ],
   "source": [
    "df.head()"
   ]
  },
  {
   "cell_type": "code",
   "execution_count": 28,
   "id": "93f1022c-d555-4798-9c30-2c0b27167539",
   "metadata": {},
   "outputs": [],
   "source": [
    "#splitting data\n",
    "X_train,X_test,y_train,y_test = train_test_split(df['cleaned_comment'], df['Emotion'], test_size=0.2, random_state=42)"
   ]
  },
  {
   "cell_type": "code",
   "execution_count": 29,
   "id": "d41f3910-e8c7-4d27-ad41-9daf1ab80513",
   "metadata": {},
   "outputs": [],
   "source": [
    "#applying tfidf-vectorizer\n",
    "tfidfvectorizer = TfidfVectorizer()\n",
    "X_train_tfidf = tfidfvectorizer.fit_transform(X_train)\n",
    "X_test_tfidf = tfidfvectorizer.transform(X_test)"
   ]
  },
  {
   "cell_type": "code",
   "execution_count": 30,
   "id": "86aa6196-2c2c-4d26-941d-fd914c3c03d9",
   "metadata": {},
   "outputs": [
    {
     "data": {
      "text/plain": [
       "(12800, 9257)"
      ]
     },
     "execution_count": 30,
     "metadata": {},
     "output_type": "execute_result"
    }
   ],
   "source": [
    "X_train_tfidf.shape"
   ]
  },
  {
   "cell_type": "code",
   "execution_count": 31,
   "id": "6d360985-fe09-46c2-b2d3-94158c080579",
   "metadata": {},
   "outputs": [
    {
     "name": "stdout",
     "output_type": "stream",
     "text": [
      "========Multinomial Naive Bayes========\n",
      "Accuracy: 0.655\n",
      "Classification Report\n",
      "              precision    recall  f1-score   support\n",
      "\n",
      "           0       0.93      0.31      0.46       427\n",
      "           1       0.91      0.24      0.38       397\n",
      "           2       0.58      0.98      0.73      1021\n",
      "           3       1.00      0.03      0.06       296\n",
      "           4       0.70      0.91      0.79       946\n",
      "           5       1.00      0.01      0.02       113\n",
      "\n",
      "    accuracy                           0.66      3200\n",
      "   macro avg       0.85      0.41      0.41      3200\n",
      "weighted avg       0.76      0.66      0.58      3200\n",
      "\n"
     ]
    }
   ],
   "source": [
    "#Naive Bayes\n",
    "nb_classifier = MultinomialNB()\n",
    "\n",
    "#Training\n",
    "nb_classifier.fit(X_train_tfidf, y_train)\n",
    "\n",
    "#Make predictions\n",
    "y_pred_nb = nb_classifier.predict(X_test_tfidf)\n",
    "\n",
    "#accuracy\n",
    "accuracy_nb = accuracy_score(y_test, y_pred_nb)\n",
    "print(\"========Multinomial Naive Bayes========\")\n",
    "print(f\"Accuracy: {accuracy_nb}\")\n",
    "print(\"Classification Report\")\n",
    "print(classification_report(y_test, y_pred_nb))"
   ]
  },
  {
   "cell_type": "code",
   "execution_count": 32,
   "id": "e7c207cb-1d63-4a38-b0e9-fe0e112043a1",
   "metadata": {},
   "outputs": [
    {
     "name": "stdout",
     "output_type": "stream",
     "text": [
      "========Logistic Regression========\n",
      "Accuracy: 0.829375\n",
      "Classification Report\n",
      "              precision    recall  f1-score   support\n",
      "\n",
      "           0       0.88      0.79      0.83       427\n",
      "           1       0.84      0.73      0.78       397\n",
      "           2       0.78      0.94      0.85      1021\n",
      "           3       0.80      0.49      0.61       296\n",
      "           4       0.88      0.92      0.90       946\n",
      "           5       0.77      0.45      0.57       113\n",
      "\n",
      "    accuracy                           0.83      3200\n",
      "   macro avg       0.82      0.72      0.76      3200\n",
      "weighted avg       0.83      0.83      0.82      3200\n",
      "\n"
     ]
    }
   ],
   "source": [
    "#Logistic Regression\n",
    "lr = LogisticRegression(max_iter=1000)\n",
    "\n",
    "#Training\n",
    "lr.fit(X_train_tfidf, y_train)\n",
    "\n",
    "#Make predictions\n",
    "y_pred_lr = lr.predict(X_test_tfidf)\n",
    "\n",
    "#accuracy\n",
    "accuracy_lr = accuracy_score(y_test, y_pred_lr)\n",
    "print(\"========Logistic Regression========\")\n",
    "print(f\"Accuracy: {accuracy_lr}\")\n",
    "print(\"Classification Report\")\n",
    "print(classification_report(y_test, y_pred_lr))"
   ]
  },
  {
   "cell_type": "code",
   "execution_count": 34,
   "id": "fab62d88-c028-4893-833a-957242598f86",
   "metadata": {},
   "outputs": [
    {
     "name": "stdout",
     "output_type": "stream",
     "text": [
      "========Random Forest========\n",
      "Accuracy: 0.8490625\n",
      "Classification Report\n",
      "              precision    recall  f1-score   support\n",
      "\n",
      "           0       0.80      0.86      0.83       427\n",
      "           1       0.82      0.82      0.82       397\n",
      "           2       0.84      0.91      0.87      1021\n",
      "           3       0.82      0.62      0.71       296\n",
      "           4       0.92      0.88      0.90       946\n",
      "           5       0.73      0.73      0.73       113\n",
      "\n",
      "    accuracy                           0.85      3200\n",
      "   macro avg       0.82      0.80      0.81      3200\n",
      "weighted avg       0.85      0.85      0.85      3200\n",
      "\n"
     ]
    }
   ],
   "source": [
    "#RandomForest\n",
    "rf = RandomForestClassifier()\n",
    "\n",
    "#Training\n",
    "rf.fit(X_train_tfidf, y_train)\n",
    "\n",
    "#Make predictions\n",
    "y_pred_rf = rf.predict(X_test_tfidf)\n",
    "\n",
    "#accuracy\n",
    "accuracy_rf = accuracy_score(y_test, y_pred_rf)\n",
    "print(\"========Random Forest========\")\n",
    "print(f\"Accuracy: {accuracy_rf}\")\n",
    "print(\"Classification Report\")\n",
    "print(classification_report(y_test, y_pred_rf))\n"
   ]
  },
  {
   "cell_type": "code",
   "execution_count": 35,
   "id": "30db0422-c1b4-41aa-bf9b-11c13298e18a",
   "metadata": {},
   "outputs": [
    {
     "name": "stdout",
     "output_type": "stream",
     "text": [
      "========Support Vector Machine========\n",
      "Accuracy: 0.8190625\n",
      "Classification Report\n",
      "              precision    recall  f1-score   support\n",
      "\n",
      "           0       0.86      0.79      0.83       427\n",
      "           1       0.84      0.71      0.77       397\n",
      "           2       0.76      0.93      0.84      1021\n",
      "           3       0.81      0.45      0.58       296\n",
      "           4       0.88      0.91      0.89       946\n",
      "           5       0.79      0.47      0.59       113\n",
      "\n",
      "    accuracy                           0.82      3200\n",
      "   macro avg       0.82      0.71      0.75      3200\n",
      "weighted avg       0.82      0.82      0.81      3200\n",
      "\n"
     ]
    }
   ],
   "source": [
    "#SVM\n",
    "svc = SVC()\n",
    "\n",
    "# Train the classifier\n",
    "svc.fit(X_train_tfidf, y_train)\n",
    "\n",
    "# Make predictions\n",
    "y_pred_svc = svc.predict(X_test_tfidf)\n",
    "\n",
    "# Calculate accuracy\n",
    "accuracy_svc = accuracy_score(y_test, y_pred_svc)\n",
    "print(\"========Support Vector Machine========\")\n",
    "print(f\"Accuracy: {accuracy_svc}\")\n",
    "print(\"Classification Report\")\n",
    "print(classification_report(y_test, y_pred_svc))"
   ]
  },
  {
   "cell_type": "markdown",
   "id": "d6bfad0a-0d6e-4a18-9a35-9b97830ab5c4",
   "metadata": {},
   "source": [
    "Random Forest showed highest Accuracy"
   ]
  },
  {
   "cell_type": "code",
   "execution_count": 36,
   "id": "3aa981b5-5fc9-49a6-8a6c-35c869cee6fd",
   "metadata": {},
   "outputs": [],
   "source": [
    "def predict_emotion(input_text):\n",
    "    cleaned_text = clean_data(input_text)\n",
    "    input_vectorizer = tfidfvectorizer.transform([cleaned_text])\n",
    "    predicted_label = rf.predict(input_vectorizer)[0]\n",
    "    predicted_emotion = label_to_emotion[predicted_label]  # Map label to emotion\n",
    "    confidence_label = np.max(rf.predict_proba(input_vectorizer))  # Confidence score\n",
    "    \n",
    "    return predicted_emotion, predicted_label,confidence_label"
   ]
  },
  {
   "cell_type": "code",
   "execution_count": 37,
   "id": "d6a07a15-3e78-47ba-8dc5-f6f083e3d876",
   "metadata": {},
   "outputs": [
    {
     "data": {
      "text/plain": [
       "('Joy', 2, 0.73)"
      ]
     },
     "execution_count": 37,
     "metadata": {},
     "output_type": "execute_result"
    }
   ],
   "source": [
    "#Testing with our data\n",
    "predict_emotion(\"i feel a little mellow today\")"
   ]
  },
  {
   "cell_type": "markdown",
   "id": "0e9a01d2-8e5d-4955-b8c1-0d2c3646a9f8",
   "metadata": {},
   "source": [
    "Deep Learning - LSTM (Long Short Term Memory)"
   ]
  },
  {
   "cell_type": "code",
   "execution_count": 41,
   "id": "7bf8e77c-93a8-4164-984c-b4a1f0b12e3c",
   "metadata": {},
   "outputs": [],
   "source": [
    "#deeplearning packages\n",
    "from keras.models import Sequential\n",
    "from keras.layers import Embedding,LSTM,Dense,Dropout\n",
    "from keras.callbacks import EarlyStopping #stops tranning when accuracy stops increasing - prevent overfitting\n",
    "from keras.preprocessing.text import one_hot #convert words in sen to integers\n",
    "from keras_preprocessing.sequence import pad_sequences #converts abv sen to fixed len by adding 0 , or truncating\n",
    "from keras.utils import to_categorical #perform one_hot encoding for each int idx in each sen"
   ]
  },
  {
   "cell_type": "code",
   "execution_count": 43,
   "id": "1baaae0c-53eb-4fd9-9c7d-da0d7f27dd2a",
   "metadata": {},
   "outputs": [],
   "source": [
    "def text_cleaning(df,column,vocab_size,max_len):\n",
    "    stemmer = PorterStemmer()\n",
    "    corpus = []\n",
    "    for text in df[column]:\n",
    "        text = re.sub(\"[^a-zA-Z]\", \" \",text)\n",
    "        text = text.lower()\n",
    "        text = text.split()\n",
    "        text = [stemmer.stem(word) for word in text if word not in stopwords]\n",
    "        text = \" \".join(text)\n",
    "        corpus.append(text)\n",
    "    one_hot_word = [one_hot(input_text=word, n=vocab_size) for word in corpus]\n",
    "    pad = pad_sequences(sequences=one_hot_word, maxlen=max_len, padding=\"pre\")\n",
    "    return pad"
   ]
  },
  {
   "cell_type": "code",
   "execution_count": 44,
   "id": "3b6a06d8-775c-4b8a-8fae-5b043861a503",
   "metadata": {},
   "outputs": [],
   "source": [
    "X_train = text_cleaning(data, \"Comment\" , vocab_size=11000, max_len=300)\n",
    "y_train = to_categorical(data[\"Emotion\"])"
   ]
  },
  {
   "cell_type": "code",
   "execution_count": 50,
   "id": "af145f42-03c2-4a35-97d1-67594a541d5a",
   "metadata": {},
   "outputs": [
    {
     "name": "stdout",
     "output_type": "stream",
     "text": [
      "Epoch 1/5\n",
      "250/250 [==============================] - ETA: 0s - loss: 1.5254 - accuracy: 0.3934WARNING:tensorflow:Early stopping conditioned on metric `val_loss` which is not available. Available metrics are: loss,accuracy\n",
      "250/250 [==============================] - 64s 246ms/step - loss: 1.5254 - accuracy: 0.3934\n",
      "Epoch 2/5\n",
      "250/250 [==============================] - ETA: 0s - loss: 0.8229 - accuracy: 0.7259WARNING:tensorflow:Early stopping conditioned on metric `val_loss` which is not available. Available metrics are: loss,accuracy\n",
      "250/250 [==============================] - 77s 308ms/step - loss: 0.8229 - accuracy: 0.7259\n",
      "Epoch 3/5\n",
      "250/250 [==============================] - ETA: 0s - loss: 0.3588 - accuracy: 0.8864WARNING:tensorflow:Early stopping conditioned on metric `val_loss` which is not available. Available metrics are: loss,accuracy\n",
      "250/250 [==============================] - 75s 302ms/step - loss: 0.3588 - accuracy: 0.8864\n",
      "Epoch 4/5\n",
      "250/250 [==============================] - ETA: 0s - loss: 0.2276 - accuracy: 0.9283WARNING:tensorflow:Early stopping conditioned on metric `val_loss` which is not available. Available metrics are: loss,accuracy\n",
      "250/250 [==============================] - 97s 390ms/step - loss: 0.2276 - accuracy: 0.9283\n",
      "Epoch 5/5\n",
      "250/250 [==============================] - ETA: 0s - loss: 0.1697 - accuracy: 0.9451WARNING:tensorflow:Early stopping conditioned on metric `val_loss` which is not available. Available metrics are: loss,accuracy\n",
      "250/250 [==============================] - 75s 300ms/step - loss: 0.1697 - accuracy: 0.9451\n"
     ]
    },
    {
     "data": {
      "text/plain": [
       "<keras.callbacks.History at 0x1f99bb75790>"
      ]
     },
     "execution_count": 50,
     "metadata": {},
     "output_type": "execute_result"
    }
   ],
   "source": [
    "model = Sequential() #one inp - one op\n",
    "model.add(Embedding(input_dim=11000, output_dim=150, input_length=300))\n",
    "model.add(Dropout(0.2)) #avoid overfitting\n",
    "model.add(LSTM(128)) # effective at learning and retaining pattern\n",
    "model.add(Dropout(0.2))\n",
    "model.add(Dense(64, activation='sigmoid'))\n",
    "model.add(Dropout(0.2))\n",
    "model.add(Dense(6, activation='softmax'))\n",
    "model.compile(optimizer='adam', loss='categorical_crossentropy', metrics=['accuracy'])\n",
    "\n",
    "callback = EarlyStopping(monitor=\"val_loss\", patience=2, restore_best_weights=True)\n",
    "model.fit(X_train, y_train, epochs=5, batch_size=64, verbose=1, callbacks=[callback])"
   ]
  },
  {
   "cell_type": "code",
   "execution_count": 51,
   "id": "624818f2-a3a5-40dd-a3f3-f4af60f02756",
   "metadata": {},
   "outputs": [],
   "source": [
    "def dl_predictive_system(sentence):\n",
    "    stemmer = PorterStemmer()\n",
    "    corpus = []\n",
    "    text = re.sub(\"[^a-zA-Z]\", \" \", sentence)\n",
    "    text = text.lower()\n",
    "    text = text.split()\n",
    "    text = [stemmer.stem(word) for word in text if word not in stopwords]\n",
    "    text = \" \".join(text)\n",
    "    corpus.append(text)\n",
    "    one_hot_word = [one_hot(input_text=word, n=11000) for word in corpus]\n",
    "    pad = pad_sequences(sequences=one_hot_word, maxlen=300, padding=\"pre\")\n",
    "    return pad"
   ]
  },
  {
   "cell_type": "code",
   "execution_count": 52,
   "id": "5ae3883e-9736-482d-a9a3-46bd64770196",
   "metadata": {},
   "outputs": [
    {
     "name": "stdout",
     "output_type": "stream",
     "text": [
      "1/1 [==============================] - 1s 629ms/step\n",
      "1/1 [==============================] - 0s 38ms/step\n",
      "Anger with probability of 0.9520832300186157\n"
     ]
    }
   ],
   "source": [
    "sentence = dl_predictive_system(\"He hates me\")\n",
    "result = le.inverse_transform(np.argmax(model.predict(sentence),axis=1))[0]\n",
    "emotion = label_to_emotion[result]\n",
    "prob = np.max(model.predict(sentence))\n",
    "print(f\"{emotion} with probability of {prob}\")"
   ]
  },
  {
   "cell_type": "code",
   "execution_count": null,
   "id": "17a9c899-1feb-4fa2-968b-4f4013a9141c",
   "metadata": {},
   "outputs": [],
   "source": []
  }
 ],
 "metadata": {
  "kernelspec": {
   "display_name": "Python 3 (ipykernel)",
   "language": "python",
   "name": "python3"
  },
  "language_info": {
   "codemirror_mode": {
    "name": "ipython",
    "version": 3
   },
   "file_extension": ".py",
   "mimetype": "text/x-python",
   "name": "python",
   "nbconvert_exporter": "python",
   "pygments_lexer": "ipython3",
   "version": "3.9.15"
  }
 },
 "nbformat": 4,
 "nbformat_minor": 5
}
